{
 "cells": [
  {
   "cell_type": "code",
   "execution_count": 1,
   "id": "817985bd",
   "metadata": {},
   "outputs": [],
   "source": [
    "import pandas as pd\n",
    "import seaborn as sns"
   ]
  },
  {
   "cell_type": "code",
   "execution_count": 5,
   "id": "da61b895",
   "metadata": {},
   "outputs": [],
   "source": [
    "# 'parse_dates' allows you to change a datatype of a column as date field\n",
    "df= pd.read_csv(r\"C:\\Users\\Raviraaj Roshan\\Downloads\\archive (1)\\udemy_courses.csv\", parse_dates= ['published_timestamp'])"
   ]
  },
  {
   "cell_type": "code",
   "execution_count": 6,
   "id": "bc52ff62",
   "metadata": {},
   "outputs": [
    {
     "data": {
      "text/plain": [
       "course_id                            int64\n",
       "course_title                        object\n",
       "url                                 object\n",
       "is_paid                               bool\n",
       "price                                int64\n",
       "num_subscribers                      int64\n",
       "num_reviews                          int64\n",
       "num_lectures                         int64\n",
       "level                               object\n",
       "content_duration                   float64\n",
       "published_timestamp    datetime64[ns, UTC]\n",
       "subject                             object\n",
       "dtype: object"
      ]
     },
     "execution_count": 6,
     "metadata": {},
     "output_type": "execute_result"
    }
   ],
   "source": [
    "df.dtypes"
   ]
  },
  {
   "cell_type": "code",
   "execution_count": null,
   "id": "43e938ae",
   "metadata": {},
   "outputs": [],
   "source": []
  },
  {
   "cell_type": "markdown",
   "id": "dcc06be8",
   "metadata": {},
   "source": [
    "### Display top 10 rows of data"
   ]
  },
  {
   "cell_type": "code",
   "execution_count": 11,
   "id": "41e167a0",
   "metadata": {},
   "outputs": [
    {
     "data": {
      "text/html": [
       "<div>\n",
       "<style scoped>\n",
       "    .dataframe tbody tr th:only-of-type {\n",
       "        vertical-align: middle;\n",
       "    }\n",
       "\n",
       "    .dataframe tbody tr th {\n",
       "        vertical-align: top;\n",
       "    }\n",
       "\n",
       "    .dataframe thead th {\n",
       "        text-align: right;\n",
       "    }\n",
       "</style>\n",
       "<table border=\"1\" class=\"dataframe\">\n",
       "  <thead>\n",
       "    <tr style=\"text-align: right;\">\n",
       "      <th></th>\n",
       "      <th>course_id</th>\n",
       "      <th>course_title</th>\n",
       "      <th>url</th>\n",
       "      <th>is_paid</th>\n",
       "      <th>price</th>\n",
       "      <th>num_subscribers</th>\n",
       "      <th>num_reviews</th>\n",
       "      <th>num_lectures</th>\n",
       "      <th>level</th>\n",
       "      <th>content_duration</th>\n",
       "      <th>published_timestamp</th>\n",
       "      <th>subject</th>\n",
       "    </tr>\n",
       "  </thead>\n",
       "  <tbody>\n",
       "    <tr>\n",
       "      <th>0</th>\n",
       "      <td>1070968</td>\n",
       "      <td>Ultimate Investment Banking Course</td>\n",
       "      <td>https://www.udemy.com/ultimate-investment-bank...</td>\n",
       "      <td>True</td>\n",
       "      <td>200</td>\n",
       "      <td>2147</td>\n",
       "      <td>23</td>\n",
       "      <td>51</td>\n",
       "      <td>All Levels</td>\n",
       "      <td>1.5</td>\n",
       "      <td>2017-01-18 20:58:58+00:00</td>\n",
       "      <td>Business Finance</td>\n",
       "    </tr>\n",
       "    <tr>\n",
       "      <th>1</th>\n",
       "      <td>1113822</td>\n",
       "      <td>Complete GST Course &amp; Certification - Grow You...</td>\n",
       "      <td>https://www.udemy.com/goods-and-services-tax/</td>\n",
       "      <td>True</td>\n",
       "      <td>75</td>\n",
       "      <td>2792</td>\n",
       "      <td>923</td>\n",
       "      <td>274</td>\n",
       "      <td>All Levels</td>\n",
       "      <td>39.0</td>\n",
       "      <td>2017-03-09 16:34:20+00:00</td>\n",
       "      <td>Business Finance</td>\n",
       "    </tr>\n",
       "    <tr>\n",
       "      <th>2</th>\n",
       "      <td>1006314</td>\n",
       "      <td>Financial Modeling for Business Analysts and C...</td>\n",
       "      <td>https://www.udemy.com/financial-modeling-for-b...</td>\n",
       "      <td>True</td>\n",
       "      <td>45</td>\n",
       "      <td>2174</td>\n",
       "      <td>74</td>\n",
       "      <td>51</td>\n",
       "      <td>Intermediate Level</td>\n",
       "      <td>2.5</td>\n",
       "      <td>2016-12-19 19:26:30+00:00</td>\n",
       "      <td>Business Finance</td>\n",
       "    </tr>\n",
       "    <tr>\n",
       "      <th>3</th>\n",
       "      <td>1210588</td>\n",
       "      <td>Beginner to Pro - Financial Analysis in Excel ...</td>\n",
       "      <td>https://www.udemy.com/complete-excel-finance-c...</td>\n",
       "      <td>True</td>\n",
       "      <td>95</td>\n",
       "      <td>2451</td>\n",
       "      <td>11</td>\n",
       "      <td>36</td>\n",
       "      <td>All Levels</td>\n",
       "      <td>3.0</td>\n",
       "      <td>2017-05-30 20:07:24+00:00</td>\n",
       "      <td>Business Finance</td>\n",
       "    </tr>\n",
       "    <tr>\n",
       "      <th>4</th>\n",
       "      <td>1011058</td>\n",
       "      <td>How To Maximize Your Profits Trading Options</td>\n",
       "      <td>https://www.udemy.com/how-to-maximize-your-pro...</td>\n",
       "      <td>True</td>\n",
       "      <td>200</td>\n",
       "      <td>1276</td>\n",
       "      <td>45</td>\n",
       "      <td>26</td>\n",
       "      <td>Intermediate Level</td>\n",
       "      <td>2.0</td>\n",
       "      <td>2016-12-13 14:57:18+00:00</td>\n",
       "      <td>Business Finance</td>\n",
       "    </tr>\n",
       "  </tbody>\n",
       "</table>\n",
       "</div>"
      ],
      "text/plain": [
       "   course_id                                       course_title  \\\n",
       "0    1070968                 Ultimate Investment Banking Course   \n",
       "1    1113822  Complete GST Course & Certification - Grow You...   \n",
       "2    1006314  Financial Modeling for Business Analysts and C...   \n",
       "3    1210588  Beginner to Pro - Financial Analysis in Excel ...   \n",
       "4    1011058       How To Maximize Your Profits Trading Options   \n",
       "\n",
       "                                                 url  is_paid  price  \\\n",
       "0  https://www.udemy.com/ultimate-investment-bank...     True    200   \n",
       "1      https://www.udemy.com/goods-and-services-tax/     True     75   \n",
       "2  https://www.udemy.com/financial-modeling-for-b...     True     45   \n",
       "3  https://www.udemy.com/complete-excel-finance-c...     True     95   \n",
       "4  https://www.udemy.com/how-to-maximize-your-pro...     True    200   \n",
       "\n",
       "   num_subscribers  num_reviews  num_lectures               level  \\\n",
       "0             2147           23            51          All Levels   \n",
       "1             2792          923           274          All Levels   \n",
       "2             2174           74            51  Intermediate Level   \n",
       "3             2451           11            36          All Levels   \n",
       "4             1276           45            26  Intermediate Level   \n",
       "\n",
       "   content_duration       published_timestamp           subject  \n",
       "0               1.5 2017-01-18 20:58:58+00:00  Business Finance  \n",
       "1              39.0 2017-03-09 16:34:20+00:00  Business Finance  \n",
       "2               2.5 2016-12-19 19:26:30+00:00  Business Finance  \n",
       "3               3.0 2017-05-30 20:07:24+00:00  Business Finance  \n",
       "4               2.0 2016-12-13 14:57:18+00:00  Business Finance  "
      ]
     },
     "execution_count": 11,
     "metadata": {},
     "output_type": "execute_result"
    }
   ],
   "source": [
    "df.head()"
   ]
  },
  {
   "cell_type": "markdown",
   "id": "d4783fd9",
   "metadata": {},
   "source": [
    "### Last 5 rows of data"
   ]
  },
  {
   "cell_type": "code",
   "execution_count": 13,
   "id": "a7deb609",
   "metadata": {},
   "outputs": [
    {
     "data": {
      "text/html": [
       "<div>\n",
       "<style scoped>\n",
       "    .dataframe tbody tr th:only-of-type {\n",
       "        vertical-align: middle;\n",
       "    }\n",
       "\n",
       "    .dataframe tbody tr th {\n",
       "        vertical-align: top;\n",
       "    }\n",
       "\n",
       "    .dataframe thead th {\n",
       "        text-align: right;\n",
       "    }\n",
       "</style>\n",
       "<table border=\"1\" class=\"dataframe\">\n",
       "  <thead>\n",
       "    <tr style=\"text-align: right;\">\n",
       "      <th></th>\n",
       "      <th>course_id</th>\n",
       "      <th>course_title</th>\n",
       "      <th>url</th>\n",
       "      <th>is_paid</th>\n",
       "      <th>price</th>\n",
       "      <th>num_subscribers</th>\n",
       "      <th>num_reviews</th>\n",
       "      <th>num_lectures</th>\n",
       "      <th>level</th>\n",
       "      <th>content_duration</th>\n",
       "      <th>published_timestamp</th>\n",
       "      <th>subject</th>\n",
       "    </tr>\n",
       "  </thead>\n",
       "  <tbody>\n",
       "    <tr>\n",
       "      <th>3673</th>\n",
       "      <td>775618</td>\n",
       "      <td>Learn jQuery from Scratch - Master of JavaScri...</td>\n",
       "      <td>https://www.udemy.com/easy-jquery-for-beginner...</td>\n",
       "      <td>True</td>\n",
       "      <td>100</td>\n",
       "      <td>1040</td>\n",
       "      <td>14</td>\n",
       "      <td>21</td>\n",
       "      <td>All Levels</td>\n",
       "      <td>2.0</td>\n",
       "      <td>2016-06-14 17:36:46+00:00</td>\n",
       "      <td>Web Development</td>\n",
       "    </tr>\n",
       "    <tr>\n",
       "      <th>3674</th>\n",
       "      <td>1088178</td>\n",
       "      <td>How To Design A WordPress Website With No Codi...</td>\n",
       "      <td>https://www.udemy.com/how-to-make-a-wordpress-...</td>\n",
       "      <td>True</td>\n",
       "      <td>25</td>\n",
       "      <td>306</td>\n",
       "      <td>3</td>\n",
       "      <td>42</td>\n",
       "      <td>Beginner Level</td>\n",
       "      <td>3.5</td>\n",
       "      <td>2017-03-10 22:24:30+00:00</td>\n",
       "      <td>Web Development</td>\n",
       "    </tr>\n",
       "    <tr>\n",
       "      <th>3675</th>\n",
       "      <td>635248</td>\n",
       "      <td>Learn and Build using Polymer</td>\n",
       "      <td>https://www.udemy.com/learn-and-build-using-po...</td>\n",
       "      <td>True</td>\n",
       "      <td>40</td>\n",
       "      <td>513</td>\n",
       "      <td>169</td>\n",
       "      <td>48</td>\n",
       "      <td>All Levels</td>\n",
       "      <td>3.5</td>\n",
       "      <td>2015-12-30 16:41:42+00:00</td>\n",
       "      <td>Web Development</td>\n",
       "    </tr>\n",
       "    <tr>\n",
       "      <th>3676</th>\n",
       "      <td>905096</td>\n",
       "      <td>CSS Animations: Create Amazing Effects on Your...</td>\n",
       "      <td>https://www.udemy.com/css-animations-create-am...</td>\n",
       "      <td>True</td>\n",
       "      <td>50</td>\n",
       "      <td>300</td>\n",
       "      <td>31</td>\n",
       "      <td>38</td>\n",
       "      <td>All Levels</td>\n",
       "      <td>3.0</td>\n",
       "      <td>2016-08-11 19:06:15+00:00</td>\n",
       "      <td>Web Development</td>\n",
       "    </tr>\n",
       "    <tr>\n",
       "      <th>3677</th>\n",
       "      <td>297602</td>\n",
       "      <td>Using MODX CMS to Build Websites: A Beginner's...</td>\n",
       "      <td>https://www.udemy.com/using-modx-cms-to-build-...</td>\n",
       "      <td>True</td>\n",
       "      <td>45</td>\n",
       "      <td>901</td>\n",
       "      <td>36</td>\n",
       "      <td>20</td>\n",
       "      <td>Beginner Level</td>\n",
       "      <td>2.0</td>\n",
       "      <td>2014-09-28 19:51:11+00:00</td>\n",
       "      <td>Web Development</td>\n",
       "    </tr>\n",
       "  </tbody>\n",
       "</table>\n",
       "</div>"
      ],
      "text/plain": [
       "      course_id                                       course_title  \\\n",
       "3673     775618  Learn jQuery from Scratch - Master of JavaScri...   \n",
       "3674    1088178  How To Design A WordPress Website With No Codi...   \n",
       "3675     635248                      Learn and Build using Polymer   \n",
       "3676     905096  CSS Animations: Create Amazing Effects on Your...   \n",
       "3677     297602  Using MODX CMS to Build Websites: A Beginner's...   \n",
       "\n",
       "                                                    url  is_paid  price  \\\n",
       "3673  https://www.udemy.com/easy-jquery-for-beginner...     True    100   \n",
       "3674  https://www.udemy.com/how-to-make-a-wordpress-...     True     25   \n",
       "3675  https://www.udemy.com/learn-and-build-using-po...     True     40   \n",
       "3676  https://www.udemy.com/css-animations-create-am...     True     50   \n",
       "3677  https://www.udemy.com/using-modx-cms-to-build-...     True     45   \n",
       "\n",
       "      num_subscribers  num_reviews  num_lectures           level  \\\n",
       "3673             1040           14            21      All Levels   \n",
       "3674              306            3            42  Beginner Level   \n",
       "3675              513          169            48      All Levels   \n",
       "3676              300           31            38      All Levels   \n",
       "3677              901           36            20  Beginner Level   \n",
       "\n",
       "      content_duration       published_timestamp          subject  \n",
       "3673               2.0 2016-06-14 17:36:46+00:00  Web Development  \n",
       "3674               3.5 2017-03-10 22:24:30+00:00  Web Development  \n",
       "3675               3.5 2015-12-30 16:41:42+00:00  Web Development  \n",
       "3676               3.0 2016-08-11 19:06:15+00:00  Web Development  \n",
       "3677               2.0 2014-09-28 19:51:11+00:00  Web Development  "
      ]
     },
     "execution_count": 13,
     "metadata": {},
     "output_type": "execute_result"
    }
   ],
   "source": [
    "df.tail()"
   ]
  },
  {
   "cell_type": "markdown",
   "id": "73493236",
   "metadata": {},
   "source": [
    "### Shape of data"
   ]
  },
  {
   "cell_type": "code",
   "execution_count": 14,
   "id": "2fd55f5c",
   "metadata": {},
   "outputs": [
    {
     "data": {
      "text/plain": [
       "(3678, 12)"
      ]
     },
     "execution_count": 14,
     "metadata": {},
     "output_type": "execute_result"
    }
   ],
   "source": [
    "df.shape"
   ]
  },
  {
   "cell_type": "code",
   "execution_count": 15,
   "id": "1b16fac7",
   "metadata": {},
   "outputs": [
    {
     "name": "stdout",
     "output_type": "stream",
     "text": [
      "No. of rows 3678\n",
      "No. of columns 12\n"
     ]
    }
   ],
   "source": [
    "print(\"No. of rows\", df.shape[0])\n",
    "print(\"No. of columns\", df.shape[1])\n"
   ]
  },
  {
   "cell_type": "markdown",
   "id": "c799dd09",
   "metadata": {},
   "source": [
    "### Info of data"
   ]
  },
  {
   "cell_type": "code",
   "execution_count": 16,
   "id": "eb709acc",
   "metadata": {},
   "outputs": [
    {
     "name": "stdout",
     "output_type": "stream",
     "text": [
      "<class 'pandas.core.frame.DataFrame'>\n",
      "RangeIndex: 3678 entries, 0 to 3677\n",
      "Data columns (total 12 columns):\n",
      " #   Column               Non-Null Count  Dtype              \n",
      "---  ------               --------------  -----              \n",
      " 0   course_id            3678 non-null   int64              \n",
      " 1   course_title         3678 non-null   object             \n",
      " 2   url                  3678 non-null   object             \n",
      " 3   is_paid              3678 non-null   bool               \n",
      " 4   price                3678 non-null   int64              \n",
      " 5   num_subscribers      3678 non-null   int64              \n",
      " 6   num_reviews          3678 non-null   int64              \n",
      " 7   num_lectures         3678 non-null   int64              \n",
      " 8   level                3678 non-null   object             \n",
      " 9   content_duration     3678 non-null   float64            \n",
      " 10  published_timestamp  3678 non-null   datetime64[ns, UTC]\n",
      " 11  subject              3678 non-null   object             \n",
      "dtypes: bool(1), datetime64[ns, UTC](1), float64(1), int64(5), object(4)\n",
      "memory usage: 319.8+ KB\n"
     ]
    }
   ],
   "source": [
    "df.info()"
   ]
  },
  {
   "cell_type": "markdown",
   "id": "0b34f642",
   "metadata": {},
   "source": [
    "### Checking null values"
   ]
  },
  {
   "cell_type": "code",
   "execution_count": 18,
   "id": "751b57a4",
   "metadata": {},
   "outputs": [
    {
     "data": {
      "text/plain": [
       "course_id              0\n",
       "course_title           0\n",
       "url                    0\n",
       "is_paid                0\n",
       "price                  0\n",
       "num_subscribers        0\n",
       "num_reviews            0\n",
       "num_lectures           0\n",
       "level                  0\n",
       "content_duration       0\n",
       "published_timestamp    0\n",
       "subject                0\n",
       "dtype: int64"
      ]
     },
     "execution_count": 18,
     "metadata": {},
     "output_type": "execute_result"
    }
   ],
   "source": [
    "df.isnull().sum()"
   ]
  },
  {
   "cell_type": "code",
   "execution_count": 20,
   "id": "17471568",
   "metadata": {},
   "outputs": [
    {
     "data": {
      "text/plain": [
       "<AxesSubplot:>"
      ]
     },
     "execution_count": 20,
     "metadata": {},
     "output_type": "execute_result"
    },
    {
     "data": {
      "image/png": "[encoded data removed]",
      "text/plain": [
       "<Figure size 432x288 with 2 Axes>"
      ]
     },
     "metadata": {
      "needs_background": "light"
     },
     "output_type": "display_data"
    }
   ],
   "source": [
    "sns.heatmap(df.isnull())"
   ]
  },
  {
   "cell_type": "markdown",
   "id": "7f87ab22",
   "metadata": {},
   "source": [
    "### Duplicates check & dropping them"
   ]
  },
  {
   "cell_type": "code",
   "execution_count": 21,
   "id": "79ff3a3f",
   "metadata": {},
   "outputs": [
    {
     "name": "stdout",
     "output_type": "stream",
     "text": [
      "Are there any duplicates? True\n"
     ]
    }
   ],
   "source": [
    "dup= df.duplicated().any()\n",
    "print(\"Are there any duplicates?\", dup)"
   ]
  },
  {
   "cell_type": "code",
   "execution_count": 24,
   "id": "f2fc1258",
   "metadata": {},
   "outputs": [],
   "source": [
    "df= df.drop_duplicates()"
   ]
  },
  {
   "cell_type": "code",
   "execution_count": 25,
   "id": "01c9d418",
   "metadata": {},
   "outputs": [
    {
     "name": "stdout",
     "output_type": "stream",
     "text": [
      "Are there any duplicates? False\n"
     ]
    }
   ],
   "source": [
    "dup= df.duplicated().any()\n",
    "print(\"Are there any duplicates?\", dup)"
   ]
  },
  {
   "cell_type": "markdown",
   "id": "be360e53",
   "metadata": {},
   "source": [
    "### No. of courses per subjects"
   ]
  },
  {
   "cell_type": "code",
   "execution_count": 26,
   "id": "d665293a",
   "metadata": {},
   "outputs": [
    {
     "data": {
      "text/html": [
       "<div>\n",
       "<style scoped>\n",
       "    .dataframe tbody tr th:only-of-type {\n",
       "        vertical-align: middle;\n",
       "    }\n",
       "\n",
       "    .dataframe tbody tr th {\n",
       "        vertical-align: top;\n",
       "    }\n",
       "\n",
       "    .dataframe thead th {\n",
       "        text-align: right;\n",
       "    }\n",
       "</style>\n",
       "<table border=\"1\" class=\"dataframe\">\n",
       "  <thead>\n",
       "    <tr style=\"text-align: right;\">\n",
       "      <th></th>\n",
       "      <th>course_id</th>\n",
       "      <th>course_title</th>\n",
       "      <th>url</th>\n",
       "      <th>is_paid</th>\n",
       "      <th>price</th>\n",
       "      <th>num_subscribers</th>\n",
       "      <th>num_reviews</th>\n",
       "      <th>num_lectures</th>\n",
       "      <th>level</th>\n",
       "      <th>content_duration</th>\n",
       "      <th>published_timestamp</th>\n",
       "      <th>subject</th>\n",
       "    </tr>\n",
       "  </thead>\n",
       "  <tbody>\n",
       "    <tr>\n",
       "      <th>0</th>\n",
       "      <td>1070968</td>\n",
       "      <td>Ultimate Investment Banking Course</td>\n",
       "      <td>https://www.udemy.com/ultimate-investment-bank...</td>\n",
       "      <td>True</td>\n",
       "      <td>200</td>\n",
       "      <td>2147</td>\n",
       "      <td>23</td>\n",
       "      <td>51</td>\n",
       "      <td>All Levels</td>\n",
       "      <td>1.5</td>\n",
       "      <td>2017-01-18 20:58:58+00:00</td>\n",
       "      <td>Business Finance</td>\n",
       "    </tr>\n",
       "  </tbody>\n",
       "</table>\n",
       "</div>"
      ],
      "text/plain": [
       "   course_id                        course_title  \\\n",
       "0    1070968  Ultimate Investment Banking Course   \n",
       "\n",
       "                                                 url  is_paid  price  \\\n",
       "0  https://www.udemy.com/ultimate-investment-bank...     True    200   \n",
       "\n",
       "   num_subscribers  num_reviews  num_lectures       level  content_duration  \\\n",
       "0             2147           23            51  All Levels               1.5   \n",
       "\n",
       "        published_timestamp           subject  \n",
       "0 2017-01-18 20:58:58+00:00  Business Finance  "
      ]
     },
     "execution_count": 26,
     "metadata": {},
     "output_type": "execute_result"
    }
   ],
   "source": [
    "df.head(1)"
   ]
  },
  {
   "cell_type": "code",
   "execution_count": 27,
   "id": "97251330",
   "metadata": {},
   "outputs": [
    {
     "data": {
      "text/plain": [
       "Web Development        1199\n",
       "Business Finance       1191\n",
       "Musical Instruments     680\n",
       "Graphic Design          602\n",
       "Name: subject, dtype: int64"
      ]
     },
     "execution_count": 27,
     "metadata": {},
     "output_type": "execute_result"
    }
   ],
   "source": [
    "df['subject'].value_counts()"
   ]
  },
  {
   "cell_type": "code",
   "execution_count": 30,
   "id": "df1d6965",
   "metadata": {},
   "outputs": [],
   "source": [
    "import matplotlib.pyplot as plt"
   ]
  },
  {
   "cell_type": "code",
   "execution_count": 37,
   "id": "483e51a9",
   "metadata": {},
   "outputs": [
    {
     "name": "stderr",
     "output_type": "stream",
     "text": [
      "D:\\Python3\\lib\\site-packages\\seaborn\\_decorators.py:36: FutureWarning: Pass the following variable as a keyword arg: x. From version 0.12, the only valid positional argument will be `data`, and passing other arguments without an explicit keyword will result in an error or misinterpretation.\n",
      "  warnings.warn(\n"
     ]
    },
    {
     "data": {
      "image/png": "[encoded data removed]",
      "text/plain": [
       "<Figure size 432x288 with 1 Axes>"
      ]
     },
     "metadata": {
      "needs_background": "light"
     },
     "output_type": "display_data"
    }
   ],
   "source": [
    "sns.countplot(df['subject'])\n",
    "plt.xlabel(\"Subjects\", fontsize=13)\n",
    "plt.ylabel(\"No. of Courses per subject\", fontsize=13)\n",
    "plt.xticks(rotation = 65)\n",
    "plt.show()"
   ]
  },
  {
   "cell_type": "markdown",
   "id": "3e759cc9",
   "metadata": {},
   "source": [
    "### For which levels, Udemy providing the courses"
   ]
  },
  {
   "cell_type": "code",
   "execution_count": 40,
   "id": "3583f20e",
   "metadata": {},
   "outputs": [
    {
     "data": {
      "text/plain": [
       "Index(['course_id', 'course_title', 'url', 'is_paid', 'price',\n",
       "       'num_subscribers', 'num_reviews', 'num_lectures', 'level',\n",
       "       'content_duration', 'published_timestamp', 'subject'],\n",
       "      dtype='object')"
      ]
     },
     "execution_count": 40,
     "metadata": {},
     "output_type": "execute_result"
    }
   ],
   "source": [
    "df.columns"
   ]
  },
  {
   "cell_type": "code",
   "execution_count": 43,
   "id": "bffb186f",
   "metadata": {},
   "outputs": [
    {
     "data": {
      "text/plain": [
       "All Levels            1925\n",
       "Beginner Level        1268\n",
       "Intermediate Level     421\n",
       "Expert Level            58\n",
       "Name: level, dtype: int64"
      ]
     },
     "execution_count": 43,
     "metadata": {},
     "output_type": "execute_result"
    }
   ],
   "source": [
    "df['level'].value_counts()"
   ]
  },
  {
   "cell_type": "code",
   "execution_count": 44,
   "id": "0bbebd34",
   "metadata": {},
   "outputs": [
    {
     "name": "stderr",
     "output_type": "stream",
     "text": [
      "D:\\Python3\\lib\\site-packages\\seaborn\\_decorators.py:36: FutureWarning: Pass the following variable as a keyword arg: x. From version 0.12, the only valid positional argument will be `data`, and passing other arguments without an explicit keyword will result in an error or misinterpretation.\n",
      "  warnings.warn(\n"
     ]
    },
    {
     "data": {
      "image/png": "[encoded data removed]",
      "text/plain": [
       "<Figure size 432x288 with 1 Axes>"
      ]
     },
     "metadata": {
      "needs_background": "light"
     },
     "output_type": "display_data"
    }
   ],
   "source": [
    "sns.countplot(df['level'])\n",
    "plt.xlabel(\"Levels\", fontsize=13)\n",
    "plt.ylabel(\"No. of Courses\", fontsize=13)\n",
    "plt.xticks(rotation = 65)\n",
    "plt.show()"
   ]
  },
  {
   "cell_type": "markdown",
   "id": "a034f08e",
   "metadata": {},
   "source": [
    "### Count of Paid & Free courses\n"
   ]
  },
  {
   "cell_type": "code",
   "execution_count": 48,
   "id": "aa2e8730",
   "metadata": {},
   "outputs": [
    {
     "data": {
      "text/plain": [
       "Index(['course_id', 'course_title', 'url', 'is_paid', 'price',\n",
       "       'num_subscribers', 'num_reviews', 'num_lectures', 'level',\n",
       "       'content_duration', 'published_timestamp', 'subject'],\n",
       "      dtype='object')"
      ]
     },
     "execution_count": 48,
     "metadata": {},
     "output_type": "execute_result"
    }
   ],
   "source": [
    "df.columns"
   ]
  },
  {
   "cell_type": "code",
   "execution_count": 49,
   "id": "10453cc2",
   "metadata": {},
   "outputs": [
    {
     "data": {
      "text/plain": [
       "True     3362\n",
       "False     310\n",
       "Name: is_paid, dtype: int64"
      ]
     },
     "execution_count": 49,
     "metadata": {},
     "output_type": "execute_result"
    }
   ],
   "source": [
    "df['is_paid'].value_counts()"
   ]
  },
  {
   "cell_type": "code",
   "execution_count": 51,
   "id": "fab2c786",
   "metadata": {},
   "outputs": [
    {
     "name": "stderr",
     "output_type": "stream",
     "text": [
      "D:\\Python3\\lib\\site-packages\\seaborn\\_decorators.py:36: FutureWarning: Pass the following variable as a keyword arg: x. From version 0.12, the only valid positional argument will be `data`, and passing other arguments without an explicit keyword will result in an error or misinterpretation.\n",
      "  warnings.warn(\n"
     ]
    },
    {
     "data": {
      "image/png": "[encoded data removed]",
      "text/plain": [
       "<Figure size 432x288 with 1 Axes>"
      ]
     },
     "metadata": {
      "needs_background": "light"
     },
     "output_type": "display_data"
    }
   ],
   "source": [
    "sns.countplot(df['is_paid'])\n",
    "plt.xlabel(\"is_paid\", fontsize=13)\n",
    "plt.ylabel(\"No. of Free & Paid Courses\", fontsize=13)\n",
    "plt.xticks(rotation = 65)\n",
    "plt.show()"
   ]
  },
  {
   "cell_type": "markdown",
   "id": "d87834e2",
   "metadata": {},
   "source": [
    "### Which course has more lectures (free or Paid)?"
   ]
  },
  {
   "cell_type": "code",
   "execution_count": 55,
   "id": "1190b72f",
   "metadata": {},
   "outputs": [
    {
     "data": {
      "text/html": [
       "<div>\n",
       "<style scoped>\n",
       "    .dataframe tbody tr th:only-of-type {\n",
       "        vertical-align: middle;\n",
       "    }\n",
       "\n",
       "    .dataframe tbody tr th {\n",
       "        vertical-align: top;\n",
       "    }\n",
       "\n",
       "    .dataframe thead th {\n",
       "        text-align: right;\n",
       "    }\n",
       "</style>\n",
       "<table border=\"1\" class=\"dataframe\">\n",
       "  <thead>\n",
       "    <tr style=\"text-align: right;\">\n",
       "      <th></th>\n",
       "      <th>course_id</th>\n",
       "      <th>price</th>\n",
       "      <th>num_subscribers</th>\n",
       "      <th>num_reviews</th>\n",
       "      <th>num_lectures</th>\n",
       "      <th>content_duration</th>\n",
       "    </tr>\n",
       "    <tr>\n",
       "      <th>is_paid</th>\n",
       "      <th></th>\n",
       "      <th></th>\n",
       "      <th></th>\n",
       "      <th></th>\n",
       "      <th></th>\n",
       "      <th></th>\n",
       "    </tr>\n",
       "  </thead>\n",
       "  <tbody>\n",
       "    <tr>\n",
       "      <th>False</th>\n",
       "      <td>691446.970968</td>\n",
       "      <td>0.000000</td>\n",
       "      <td>11533.951613</td>\n",
       "      <td>425.929032</td>\n",
       "      <td>21.416129</td>\n",
       "      <td>2.210753</td>\n",
       "    </tr>\n",
       "    <tr>\n",
       "      <th>True</th>\n",
       "      <td>674463.946163</td>\n",
       "      <td>72.198096</td>\n",
       "      <td>2421.270077</td>\n",
       "      <td>131.516359</td>\n",
       "      <td>41.866746</td>\n",
       "      <td>4.271584</td>\n",
       "    </tr>\n",
       "  </tbody>\n",
       "</table>\n",
       "</div>"
      ],
      "text/plain": [
       "             course_id      price  num_subscribers  num_reviews  num_lectures  \\\n",
       "is_paid                                                                         \n",
       "False    691446.970968   0.000000     11533.951613   425.929032     21.416129   \n",
       "True     674463.946163  72.198096      2421.270077   131.516359     41.866746   \n",
       "\n",
       "         content_duration  \n",
       "is_paid                    \n",
       "False            2.210753  \n",
       "True             4.271584  "
      ]
     },
     "execution_count": 55,
     "metadata": {},
     "output_type": "execute_result"
    }
   ],
   "source": [
    "df.groupby('is_paid').mean()"
   ]
  },
  {
   "cell_type": "markdown",
   "id": "d13f3486",
   "metadata": {},
   "source": [
    "### Which courses have higher no. of subscribers (Free or Paid)"
   ]
  },
  {
   "cell_type": "code",
   "execution_count": 57,
   "id": "8e5bf1bc",
   "metadata": {},
   "outputs": [
    {
     "data": {
      "text/html": [
       "<div>\n",
       "<style scoped>\n",
       "    .dataframe tbody tr th:only-of-type {\n",
       "        vertical-align: middle;\n",
       "    }\n",
       "\n",
       "    .dataframe tbody tr th {\n",
       "        vertical-align: top;\n",
       "    }\n",
       "\n",
       "    .dataframe thead th {\n",
       "        text-align: right;\n",
       "    }\n",
       "</style>\n",
       "<table border=\"1\" class=\"dataframe\">\n",
       "  <thead>\n",
       "    <tr style=\"text-align: right;\">\n",
       "      <th></th>\n",
       "      <th>course_id</th>\n",
       "      <th>price</th>\n",
       "      <th>num_subscribers</th>\n",
       "      <th>num_reviews</th>\n",
       "      <th>num_lectures</th>\n",
       "      <th>content_duration</th>\n",
       "    </tr>\n",
       "    <tr>\n",
       "      <th>is_paid</th>\n",
       "      <th></th>\n",
       "      <th></th>\n",
       "      <th></th>\n",
       "      <th></th>\n",
       "      <th></th>\n",
       "      <th></th>\n",
       "    </tr>\n",
       "  </thead>\n",
       "  <tbody>\n",
       "    <tr>\n",
       "      <th>False</th>\n",
       "      <td>691446.970968</td>\n",
       "      <td>0.000000</td>\n",
       "      <td>11533.951613</td>\n",
       "      <td>425.929032</td>\n",
       "      <td>21.416129</td>\n",
       "      <td>2.210753</td>\n",
       "    </tr>\n",
       "    <tr>\n",
       "      <th>True</th>\n",
       "      <td>674463.946163</td>\n",
       "      <td>72.198096</td>\n",
       "      <td>2421.270077</td>\n",
       "      <td>131.516359</td>\n",
       "      <td>41.866746</td>\n",
       "      <td>4.271584</td>\n",
       "    </tr>\n",
       "  </tbody>\n",
       "</table>\n",
       "</div>"
      ],
      "text/plain": [
       "             course_id      price  num_subscribers  num_reviews  num_lectures  \\\n",
       "is_paid                                                                         \n",
       "False    691446.970968   0.000000     11533.951613   425.929032     21.416129   \n",
       "True     674463.946163  72.198096      2421.270077   131.516359     41.866746   \n",
       "\n",
       "         content_duration  \n",
       "is_paid                    \n",
       "False            2.210753  \n",
       "True             4.271584  "
      ]
     },
     "execution_count": 57,
     "metadata": {},
     "output_type": "execute_result"
    }
   ],
   "source": [
    "df.groupby('is_paid').mean()"
   ]
  },
  {
   "cell_type": "code",
   "execution_count": 58,
   "id": "48ed6270",
   "metadata": {},
   "outputs": [
    {
     "data": {
      "text/plain": [
       "<AxesSubplot:xlabel='is_paid', ylabel='num_subscribers'>"
      ]
     },
     "execution_count": 58,
     "metadata": {},
     "output_type": "execute_result"
    },
    {
     "data": {
      "image/png": "[encoded data removed]",
      "text/plain": [
       "<Figure size 432x288 with 1 Axes>"
      ]
     },
     "metadata": {
      "needs_background": "light"
     },
     "output_type": "display_data"
    }
   ],
   "source": [
    "sns.barplot(x='is_paid', y= 'num_subscribers', data= df)"
   ]
  },
  {
   "cell_type": "markdown",
   "id": "a0e93800",
   "metadata": {},
   "source": [
    "### Which level has the highest no. of subscribers?"
   ]
  },
  {
   "cell_type": "code",
   "execution_count": 60,
   "id": "cdad61c8",
   "metadata": {},
   "outputs": [
    {
     "data": {
      "text/plain": [
       "Index(['course_id', 'course_title', 'url', 'is_paid', 'price',\n",
       "       'num_subscribers', 'num_reviews', 'num_lectures', 'level',\n",
       "       'content_duration', 'published_timestamp', 'subject'],\n",
       "      dtype='object')"
      ]
     },
     "execution_count": 60,
     "metadata": {},
     "output_type": "execute_result"
    }
   ],
   "source": [
    "df.columns"
   ]
  },
  {
   "cell_type": "code",
   "execution_count": 67,
   "id": "4574cc44",
   "metadata": {},
   "outputs": [
    {
     "data": {
      "image/png": "[encoded data removed]",
      "text/plain": [
       "<Figure size 432x288 with 1 Axes>"
      ]
     },
     "metadata": {
      "needs_background": "light"
     },
     "output_type": "display_data"
    }
   ],
   "source": [
    "sns.barplot(x='level', y= 'num_subscribers', data= df)\n",
    "plt.xticks(rotation =60)\n",
    "plt.show()"
   ]
  },
  {
   "cell_type": "markdown",
   "id": "0237c1b8",
   "metadata": {},
   "source": [
    "### Most popular course title"
   ]
  },
  {
   "cell_type": "code",
   "execution_count": 68,
   "id": "eb127117",
   "metadata": {},
   "outputs": [
    {
     "data": {
      "text/plain": [
       "Index(['course_id', 'course_title', 'url', 'is_paid', 'price',\n",
       "       'num_subscribers', 'num_reviews', 'num_lectures', 'level',\n",
       "       'content_duration', 'published_timestamp', 'subject'],\n",
       "      dtype='object')"
      ]
     },
     "execution_count": 68,
     "metadata": {},
     "output_type": "execute_result"
    }
   ],
   "source": [
    "df.columns"
   ]
  },
  {
   "cell_type": "code",
   "execution_count": 72,
   "id": "2a81b71c",
   "metadata": {},
   "outputs": [
    {
     "data": {
      "text/html": [
       "<div>\n",
       "<style scoped>\n",
       "    .dataframe tbody tr th:only-of-type {\n",
       "        vertical-align: middle;\n",
       "    }\n",
       "\n",
       "    .dataframe tbody tr th {\n",
       "        vertical-align: top;\n",
       "    }\n",
       "\n",
       "    .dataframe thead th {\n",
       "        text-align: right;\n",
       "    }\n",
       "</style>\n",
       "<table border=\"1\" class=\"dataframe\">\n",
       "  <thead>\n",
       "    <tr style=\"text-align: right;\">\n",
       "      <th></th>\n",
       "      <th>course_id</th>\n",
       "      <th>course_title</th>\n",
       "      <th>url</th>\n",
       "      <th>is_paid</th>\n",
       "      <th>price</th>\n",
       "      <th>num_subscribers</th>\n",
       "      <th>num_reviews</th>\n",
       "      <th>num_lectures</th>\n",
       "      <th>level</th>\n",
       "      <th>content_duration</th>\n",
       "      <th>published_timestamp</th>\n",
       "      <th>subject</th>\n",
       "    </tr>\n",
       "  </thead>\n",
       "  <tbody>\n",
       "    <tr>\n",
       "      <th>2827</th>\n",
       "      <td>41295</td>\n",
       "      <td>Learn HTML5 Programming From Scratch</td>\n",
       "      <td>https://www.udemy.com/learn-html5-programming-...</td>\n",
       "      <td>False</td>\n",
       "      <td>0</td>\n",
       "      <td>268923</td>\n",
       "      <td>8629</td>\n",
       "      <td>45</td>\n",
       "      <td>All Levels</td>\n",
       "      <td>10.5</td>\n",
       "      <td>2013-02-14 07:03:41+00:00</td>\n",
       "      <td>Web Development</td>\n",
       "    </tr>\n",
       "  </tbody>\n",
       "</table>\n",
       "</div>"
      ],
      "text/plain": [
       "      course_id                          course_title  \\\n",
       "2827      41295  Learn HTML5 Programming From Scratch   \n",
       "\n",
       "                                                    url  is_paid  price  \\\n",
       "2827  https://www.udemy.com/learn-html5-programming-...    False      0   \n",
       "\n",
       "      num_subscribers  num_reviews  num_lectures       level  \\\n",
       "2827           268923         8629            45  All Levels   \n",
       "\n",
       "      content_duration       published_timestamp          subject  \n",
       "2827              10.5 2013-02-14 07:03:41+00:00  Web Development  "
      ]
     },
     "execution_count": 72,
     "metadata": {},
     "output_type": "execute_result"
    }
   ],
   "source": [
    "df[df['num_subscribers'].max() == df['num_subscribers']]"
   ]
  },
  {
   "cell_type": "code",
   "execution_count": 73,
   "id": "0bab13bd",
   "metadata": {},
   "outputs": [
    {
     "data": {
      "text/plain": [
       "2827    Learn HTML5 Programming From Scratch\n",
       "Name: course_title, dtype: object"
      ]
     },
     "execution_count": 73,
     "metadata": {},
     "output_type": "execute_result"
    }
   ],
   "source": [
    "df[df['num_subscribers'].max() == df['num_subscribers']]['course_title']"
   ]
  },
  {
   "cell_type": "markdown",
   "id": "c38e8da8",
   "metadata": {},
   "source": [
    "### 10 most popular courses as per no. of subscribers "
   ]
  },
  {
   "cell_type": "code",
   "execution_count": 74,
   "id": "85d3a50c",
   "metadata": {},
   "outputs": [
    {
     "data": {
      "text/plain": [
       "Index(['course_id', 'course_title', 'url', 'is_paid', 'price',\n",
       "       'num_subscribers', 'num_reviews', 'num_lectures', 'level',\n",
       "       'content_duration', 'published_timestamp', 'subject'],\n",
       "      dtype='object')"
      ]
     },
     "execution_count": 74,
     "metadata": {},
     "output_type": "execute_result"
    }
   ],
   "source": [
    "df.columns"
   ]
  },
  {
   "cell_type": "code",
   "execution_count": 77,
   "id": "1edca658",
   "metadata": {},
   "outputs": [],
   "source": [
    "top_10 = df.sort_values(by= 'num_subscribers', ascending= False).head(10)"
   ]
  },
  {
   "cell_type": "code",
   "execution_count": 78,
   "id": "aa840217",
   "metadata": {},
   "outputs": [
    {
     "data": {
      "text/plain": [
       "<AxesSubplot:xlabel='num_subscribers', ylabel='course_title'>"
      ]
     },
     "execution_count": 78,
     "metadata": {},
     "output_type": "execute_result"
    },
    {
     "data": {
      "image/png": "[encoded data removed]",
      "text/plain": [
       "<Figure size 432x288 with 1 Axes>"
      ]
     },
     "metadata": {
      "needs_background": "light"
     },
     "output_type": "display_data"
    }
   ],
   "source": [
    "sns.barplot(x='num_subscribers', y= 'course_title', data= top_10)"
   ]
  },
  {
   "cell_type": "markdown",
   "id": "c58a0fee",
   "metadata": {},
   "source": [
    "### Find course having highest reviews"
   ]
  },
  {
   "cell_type": "code",
   "execution_count": 86,
   "id": "5cd48aac",
   "metadata": {},
   "outputs": [
    {
     "data": {
      "text/plain": [
       "Index(['course_id', 'course_title', 'url', 'is_paid', 'price',\n",
       "       'num_subscribers', 'num_reviews', 'num_lectures', 'level',\n",
       "       'content_duration', 'published_timestamp', 'subject'],\n",
       "      dtype='object')"
      ]
     },
     "execution_count": 86,
     "metadata": {},
     "output_type": "execute_result"
    }
   ],
   "source": [
    "df.columns"
   ]
  },
  {
   "cell_type": "code",
   "execution_count": 87,
   "id": "a6f783b7",
   "metadata": {},
   "outputs": [
    {
     "data": {
      "text/plain": [
       "<AxesSubplot:xlabel='subject', ylabel='num_reviews'>"
      ]
     },
     "execution_count": 87,
     "metadata": {},
     "output_type": "execute_result"
    },
    {
     "data": {
      "image/png": "[encoded data removed]",
      "text/plain": [
       "<Figure size 720x288 with 1 Axes>"
      ]
     },
     "metadata": {
      "needs_background": "light"
     },
     "output_type": "display_data"
    }
   ],
   "source": [
    "plt.figure(figsize= (10,4))\n",
    "sns.barplot(x= 'subject', y= 'num_reviews', data= df)"
   ]
  },
  {
   "cell_type": "markdown",
   "id": "bb263fbb",
   "metadata": {},
   "source": [
    "### Does price affect no. of reviews?"
   ]
  },
  {
   "cell_type": "code",
   "execution_count": 91,
   "id": "866af1d1",
   "metadata": {},
   "outputs": [
    {
     "data": {
      "text/plain": [
       "<AxesSubplot:xlabel='price', ylabel='num_reviews'>"
      ]
     },
     "execution_count": 91,
     "metadata": {},
     "output_type": "execute_result"
    },
    {
     "data": {
      "image/png": "[encoded data removed]",
      "text/plain": [
       "<Figure size 432x288 with 1 Axes>"
      ]
     },
     "metadata": {
      "needs_background": "light"
     },
     "output_type": "display_data"
    }
   ],
   "source": [
    "\n",
    "sns.scatterplot(x= 'price', y= 'num_reviews', data=df)"
   ]
  },
  {
   "cell_type": "markdown",
   "id": "e6a1ce53",
   "metadata": {},
   "source": [
    "### No. of courses related to python"
   ]
  },
  {
   "cell_type": "code",
   "execution_count": 92,
   "id": "aacee0c1",
   "metadata": {},
   "outputs": [
    {
     "data": {
      "text/plain": [
       "Index(['course_id', 'course_title', 'url', 'is_paid', 'price',\n",
       "       'num_subscribers', 'num_reviews', 'num_lectures', 'level',\n",
       "       'content_duration', 'published_timestamp', 'subject'],\n",
       "      dtype='object')"
      ]
     },
     "execution_count": 92,
     "metadata": {},
     "output_type": "execute_result"
    }
   ],
   "source": [
    "df.columns"
   ]
  },
  {
   "cell_type": "code",
   "execution_count": 97,
   "id": "1dc48f74",
   "metadata": {},
   "outputs": [
    {
     "data": {
      "text/html": [
       "<div>\n",
       "<style scoped>\n",
       "    .dataframe tbody tr th:only-of-type {\n",
       "        vertical-align: middle;\n",
       "    }\n",
       "\n",
       "    .dataframe tbody tr th {\n",
       "        vertical-align: top;\n",
       "    }\n",
       "\n",
       "    .dataframe thead th {\n",
       "        text-align: right;\n",
       "    }\n",
       "</style>\n",
       "<table border=\"1\" class=\"dataframe\">\n",
       "  <thead>\n",
       "    <tr style=\"text-align: right;\">\n",
       "      <th></th>\n",
       "      <th>course_id</th>\n",
       "      <th>course_title</th>\n",
       "      <th>url</th>\n",
       "      <th>is_paid</th>\n",
       "      <th>price</th>\n",
       "      <th>num_subscribers</th>\n",
       "      <th>num_reviews</th>\n",
       "      <th>num_lectures</th>\n",
       "      <th>level</th>\n",
       "      <th>content_duration</th>\n",
       "      <th>published_timestamp</th>\n",
       "      <th>subject</th>\n",
       "    </tr>\n",
       "  </thead>\n",
       "  <tbody>\n",
       "    <tr>\n",
       "      <th>14</th>\n",
       "      <td>1196544</td>\n",
       "      <td>Python Algo Trading: Sentiment Trading with News</td>\n",
       "      <td>https://www.udemy.com/hedge-fund-strategy-trad...</td>\n",
       "      <td>True</td>\n",
       "      <td>200</td>\n",
       "      <td>294</td>\n",
       "      <td>19</td>\n",
       "      <td>42</td>\n",
       "      <td>All Levels</td>\n",
       "      <td>7.0</td>\n",
       "      <td>2017-04-28 16:41:44+00:00</td>\n",
       "      <td>Business Finance</td>\n",
       "    </tr>\n",
       "    <tr>\n",
       "      <th>30</th>\n",
       "      <td>1170894</td>\n",
       "      <td>Python Algo Stock Trading: Automate Your Trading!</td>\n",
       "      <td>https://www.udemy.com/algorithmic-stock-tradin...</td>\n",
       "      <td>True</td>\n",
       "      <td>95</td>\n",
       "      <td>1165</td>\n",
       "      <td>21</td>\n",
       "      <td>41</td>\n",
       "      <td>Beginner Level</td>\n",
       "      <td>2.5</td>\n",
       "      <td>2017-05-28 23:41:03+00:00</td>\n",
       "      <td>Business Finance</td>\n",
       "    </tr>\n",
       "    <tr>\n",
       "      <th>41</th>\n",
       "      <td>1035472</td>\n",
       "      <td>Python for Finance: Investment Fundamentals &amp; ...</td>\n",
       "      <td>https://www.udemy.com/python-for-finance-inves...</td>\n",
       "      <td>True</td>\n",
       "      <td>195</td>\n",
       "      <td>3811</td>\n",
       "      <td>278</td>\n",
       "      <td>103</td>\n",
       "      <td>All Levels</td>\n",
       "      <td>6.5</td>\n",
       "      <td>2017-03-30 22:17:09+00:00</td>\n",
       "      <td>Business Finance</td>\n",
       "    </tr>\n",
       "    <tr>\n",
       "      <th>147</th>\n",
       "      <td>1070886</td>\n",
       "      <td>Python Algo Trading: FX Trading with Oanda</td>\n",
       "      <td>https://www.udemy.com/python-algo-trading-fx-t...</td>\n",
       "      <td>True</td>\n",
       "      <td>200</td>\n",
       "      <td>453</td>\n",
       "      <td>42</td>\n",
       "      <td>33</td>\n",
       "      <td>Intermediate Level</td>\n",
       "      <td>3.0</td>\n",
       "      <td>2017-03-14 00:39:45+00:00</td>\n",
       "      <td>Business Finance</td>\n",
       "    </tr>\n",
       "    <tr>\n",
       "      <th>334</th>\n",
       "      <td>815482</td>\n",
       "      <td>Stock Technical Analysis with Python</td>\n",
       "      <td>https://www.udemy.com/stock-technical-analysis...</td>\n",
       "      <td>True</td>\n",
       "      <td>50</td>\n",
       "      <td>409</td>\n",
       "      <td>35</td>\n",
       "      <td>46</td>\n",
       "      <td>All Levels</td>\n",
       "      <td>8.0</td>\n",
       "      <td>2016-04-12 00:40:03+00:00</td>\n",
       "      <td>Business Finance</td>\n",
       "    </tr>\n",
       "    <tr>\n",
       "      <th>536</th>\n",
       "      <td>529828</td>\n",
       "      <td>Python for Trading &amp; Investing</td>\n",
       "      <td>https://www.udemy.com/python-for-trading-inves...</td>\n",
       "      <td>True</td>\n",
       "      <td>95</td>\n",
       "      <td>638</td>\n",
       "      <td>25</td>\n",
       "      <td>36</td>\n",
       "      <td>All Levels</td>\n",
       "      <td>5.0</td>\n",
       "      <td>2015-06-17 22:23:31+00:00</td>\n",
       "      <td>Business Finance</td>\n",
       "    </tr>\n",
       "    <tr>\n",
       "      <th>762</th>\n",
       "      <td>1088656</td>\n",
       "      <td>Quantitative Trading Analysis with Python</td>\n",
       "      <td>https://www.udemy.com/quantitative-trading-ana...</td>\n",
       "      <td>True</td>\n",
       "      <td>50</td>\n",
       "      <td>256</td>\n",
       "      <td>17</td>\n",
       "      <td>49</td>\n",
       "      <td>All Levels</td>\n",
       "      <td>5.5</td>\n",
       "      <td>2017-01-27 17:11:28+00:00</td>\n",
       "      <td>Business Finance</td>\n",
       "    </tr>\n",
       "    <tr>\n",
       "      <th>863</th>\n",
       "      <td>902888</td>\n",
       "      <td>Investment Portfolio Analysis with Python</td>\n",
       "      <td>https://www.udemy.com/investment-portfolio-ana...</td>\n",
       "      <td>True</td>\n",
       "      <td>50</td>\n",
       "      <td>209</td>\n",
       "      <td>13</td>\n",
       "      <td>37</td>\n",
       "      <td>All Levels</td>\n",
       "      <td>7.0</td>\n",
       "      <td>2016-07-13 21:40:32+00:00</td>\n",
       "      <td>Business Finance</td>\n",
       "    </tr>\n",
       "    <tr>\n",
       "      <th>1682</th>\n",
       "      <td>546848</td>\n",
       "      <td>Learn to code in Python and learn Adobe Photos...</td>\n",
       "      <td>https://www.udemy.com/learn-to-code-in-python-...</td>\n",
       "      <td>True</td>\n",
       "      <td>50</td>\n",
       "      <td>1132</td>\n",
       "      <td>1</td>\n",
       "      <td>29</td>\n",
       "      <td>All Levels</td>\n",
       "      <td>2.0</td>\n",
       "      <td>2015-07-08 00:15:12+00:00</td>\n",
       "      <td>Graphic Design</td>\n",
       "    </tr>\n",
       "    <tr>\n",
       "      <th>2497</th>\n",
       "      <td>16646</td>\n",
       "      <td>Web Programming with Python</td>\n",
       "      <td>https://www.udemy.com/web-programming-with-pyt...</td>\n",
       "      <td>True</td>\n",
       "      <td>50</td>\n",
       "      <td>35267</td>\n",
       "      <td>217</td>\n",
       "      <td>53</td>\n",
       "      <td>All Levels</td>\n",
       "      <td>4.0</td>\n",
       "      <td>2012-04-25 00:01:43+00:00</td>\n",
       "      <td>Web Development</td>\n",
       "    </tr>\n",
       "    <tr>\n",
       "      <th>2528</th>\n",
       "      <td>391546</td>\n",
       "      <td>Learn Python and Django: Payment Processing</td>\n",
       "      <td>https://www.udemy.com/learn-django-code-accept...</td>\n",
       "      <td>True</td>\n",
       "      <td>70</td>\n",
       "      <td>17714</td>\n",
       "      <td>198</td>\n",
       "      <td>23</td>\n",
       "      <td>All Levels</td>\n",
       "      <td>3.5</td>\n",
       "      <td>2015-02-09 15:37:56+00:00</td>\n",
       "      <td>Web Development</td>\n",
       "    </tr>\n",
       "    <tr>\n",
       "      <th>2553</th>\n",
       "      <td>938560</td>\n",
       "      <td>The Complete Ethical Hacking Course 2.0: Pytho...</td>\n",
       "      <td>https://www.udemy.com/penetration-testing-ethi...</td>\n",
       "      <td>True</td>\n",
       "      <td>195</td>\n",
       "      <td>7827</td>\n",
       "      <td>268</td>\n",
       "      <td>66</td>\n",
       "      <td>All Levels</td>\n",
       "      <td>11.0</td>\n",
       "      <td>2016-09-26 15:08:29+00:00</td>\n",
       "      <td>Web Development</td>\n",
       "    </tr>\n",
       "    <tr>\n",
       "      <th>2570</th>\n",
       "      <td>47963</td>\n",
       "      <td>Coding for Entrepreneurs: Learn Python, Django...</td>\n",
       "      <td>https://www.udemy.com/coding-for-entrepreneurs/</td>\n",
       "      <td>True</td>\n",
       "      <td>195</td>\n",
       "      <td>23412</td>\n",
       "      <td>799</td>\n",
       "      <td>251</td>\n",
       "      <td>All Levels</td>\n",
       "      <td>45.0</td>\n",
       "      <td>2013-04-08 00:46:14+00:00</td>\n",
       "      <td>Web Development</td>\n",
       "    </tr>\n",
       "    <tr>\n",
       "      <th>2681</th>\n",
       "      <td>477702</td>\n",
       "      <td>Python for Beginners: Python Programming Langu...</td>\n",
       "      <td>https://www.udemy.com/python-course/</td>\n",
       "      <td>True</td>\n",
       "      <td>150</td>\n",
       "      <td>6153</td>\n",
       "      <td>125</td>\n",
       "      <td>84</td>\n",
       "      <td>Beginner Level</td>\n",
       "      <td>5.0</td>\n",
       "      <td>2015-06-14 18:18:57+00:00</td>\n",
       "      <td>Web Development</td>\n",
       "    </tr>\n",
       "    <tr>\n",
       "      <th>2960</th>\n",
       "      <td>270808</td>\n",
       "      <td>Projects in Django and Python</td>\n",
       "      <td>https://www.udemy.com/projects-in-django-and-p...</td>\n",
       "      <td>True</td>\n",
       "      <td>60</td>\n",
       "      <td>1764</td>\n",
       "      <td>53</td>\n",
       "      <td>28</td>\n",
       "      <td>All Levels</td>\n",
       "      <td>6.5</td>\n",
       "      <td>2014-10-21 07:58:07+00:00</td>\n",
       "      <td>Web Development</td>\n",
       "    </tr>\n",
       "    <tr>\n",
       "      <th>3133</th>\n",
       "      <td>574082</td>\n",
       "      <td>Web Scraping with Python, Ruby &amp; import. io</td>\n",
       "      <td>https://www.udemy.com/web-scraping-with-python...</td>\n",
       "      <td>True</td>\n",
       "      <td>75</td>\n",
       "      <td>973</td>\n",
       "      <td>50</td>\n",
       "      <td>46</td>\n",
       "      <td>All Levels</td>\n",
       "      <td>4.5</td>\n",
       "      <td>2015-08-09 22:16:41+00:00</td>\n",
       "      <td>Web Development</td>\n",
       "    </tr>\n",
       "    <tr>\n",
       "      <th>3138</th>\n",
       "      <td>631128</td>\n",
       "      <td>Complete Python Web Course: Build 8 Python Web...</td>\n",
       "      <td>https://www.udemy.com/the-complete-python-web-...</td>\n",
       "      <td>True</td>\n",
       "      <td>110</td>\n",
       "      <td>7489</td>\n",
       "      <td>941</td>\n",
       "      <td>173</td>\n",
       "      <td>All Levels</td>\n",
       "      <td>16.0</td>\n",
       "      <td>2015-11-08 20:57:35+00:00</td>\n",
       "      <td>Web Development</td>\n",
       "    </tr>\n",
       "    <tr>\n",
       "      <th>3160</th>\n",
       "      <td>368340</td>\n",
       "      <td>Professional Python Web Development Using Flask</td>\n",
       "      <td>https://www.udemy.com/python-flask-course/</td>\n",
       "      <td>True</td>\n",
       "      <td>120</td>\n",
       "      <td>3420</td>\n",
       "      <td>489</td>\n",
       "      <td>102</td>\n",
       "      <td>Beginner Level</td>\n",
       "      <td>14.5</td>\n",
       "      <td>2015-03-04 00:10:36+00:00</td>\n",
       "      <td>Web Development</td>\n",
       "    </tr>\n",
       "    <tr>\n",
       "      <th>3192</th>\n",
       "      <td>1035940</td>\n",
       "      <td>Professional RESTful API Design using Python F...</td>\n",
       "      <td>https://www.udemy.com/restful-api-flask-course/</td>\n",
       "      <td>True</td>\n",
       "      <td>120</td>\n",
       "      <td>578</td>\n",
       "      <td>25</td>\n",
       "      <td>36</td>\n",
       "      <td>Intermediate Level</td>\n",
       "      <td>4.5</td>\n",
       "      <td>2017-01-11 21:15:25+00:00</td>\n",
       "      <td>Web Development</td>\n",
       "    </tr>\n",
       "    <tr>\n",
       "      <th>3194</th>\n",
       "      <td>1063722</td>\n",
       "      <td>Learn Python Django - A Hands-On Course</td>\n",
       "      <td>https://www.udemy.com/learn-python-django-a-ha...</td>\n",
       "      <td>True</td>\n",
       "      <td>50</td>\n",
       "      <td>1339</td>\n",
       "      <td>21</td>\n",
       "      <td>18</td>\n",
       "      <td>Beginner Level</td>\n",
       "      <td>2.0</td>\n",
       "      <td>2017-01-18 21:53:34+00:00</td>\n",
       "      <td>Web Development</td>\n",
       "    </tr>\n",
       "    <tr>\n",
       "      <th>3197</th>\n",
       "      <td>76052</td>\n",
       "      <td>Try Django 1.9 | Build a Blog and Learn Python...</td>\n",
       "      <td>https://www.udemy.com/try-django/</td>\n",
       "      <td>True</td>\n",
       "      <td>50</td>\n",
       "      <td>7407</td>\n",
       "      <td>172</td>\n",
       "      <td>147</td>\n",
       "      <td>All Levels</td>\n",
       "      <td>20.0</td>\n",
       "      <td>2014-03-04 07:12:21+00:00</td>\n",
       "      <td>Web Development</td>\n",
       "    </tr>\n",
       "    <tr>\n",
       "      <th>3200</th>\n",
       "      <td>822444</td>\n",
       "      <td>Python and Django Full Stack Web Developer Boo...</td>\n",
       "      <td>https://www.udemy.com/python-and-django-full-s...</td>\n",
       "      <td>True</td>\n",
       "      <td>200</td>\n",
       "      <td>11832</td>\n",
       "      <td>1883</td>\n",
       "      <td>191</td>\n",
       "      <td>All Levels</td>\n",
       "      <td>31.5</td>\n",
       "      <td>2017-02-24 18:40:55+00:00</td>\n",
       "      <td>Web Development</td>\n",
       "    </tr>\n",
       "    <tr>\n",
       "      <th>3203</th>\n",
       "      <td>970600</td>\n",
       "      <td>REST APIs with Flask and Python</td>\n",
       "      <td>https://www.udemy.com/rest-api-flask-and-python/</td>\n",
       "      <td>True</td>\n",
       "      <td>110</td>\n",
       "      <td>5151</td>\n",
       "      <td>737</td>\n",
       "      <td>115</td>\n",
       "      <td>Intermediate Level</td>\n",
       "      <td>12.5</td>\n",
       "      <td>2016-11-06 19:00:38+00:00</td>\n",
       "      <td>Web Development</td>\n",
       "    </tr>\n",
       "    <tr>\n",
       "      <th>3284</th>\n",
       "      <td>599504</td>\n",
       "      <td>Advanced Scalable Python Web Development Using...</td>\n",
       "      <td>https://www.udemy.com/advanced-python-flask/</td>\n",
       "      <td>True</td>\n",
       "      <td>120</td>\n",
       "      <td>1299</td>\n",
       "      <td>56</td>\n",
       "      <td>71</td>\n",
       "      <td>Intermediate Level</td>\n",
       "      <td>14.0</td>\n",
       "      <td>2016-08-11 22:09:24+00:00</td>\n",
       "      <td>Web Development</td>\n",
       "    </tr>\n",
       "    <tr>\n",
       "      <th>3326</th>\n",
       "      <td>186096</td>\n",
       "      <td>Core: A Web App Reference Guide for Django, Py...</td>\n",
       "      <td>https://www.udemy.com/coding-for-entrepreneurs...</td>\n",
       "      <td>True</td>\n",
       "      <td>195</td>\n",
       "      <td>2497</td>\n",
       "      <td>98</td>\n",
       "      <td>154</td>\n",
       "      <td>All Levels</td>\n",
       "      <td>26.0</td>\n",
       "      <td>2014-05-29 00:58:43+00:00</td>\n",
       "      <td>Web Development</td>\n",
       "    </tr>\n",
       "    <tr>\n",
       "      <th>3333</th>\n",
       "      <td>1038538</td>\n",
       "      <td>Introduction to QGIS Python Programming</td>\n",
       "      <td>https://www.udemy.com/introduction-to-qgis-pyt...</td>\n",
       "      <td>True</td>\n",
       "      <td>85</td>\n",
       "      <td>197</td>\n",
       "      <td>26</td>\n",
       "      <td>28</td>\n",
       "      <td>Beginner Level</td>\n",
       "      <td>3.5</td>\n",
       "      <td>2016-12-22 00:11:22+00:00</td>\n",
       "      <td>Web Development</td>\n",
       "    </tr>\n",
       "    <tr>\n",
       "      <th>3343</th>\n",
       "      <td>523312</td>\n",
       "      <td>Python Web Programming</td>\n",
       "      <td>https://www.udemy.com/python-web-programming/</td>\n",
       "      <td>True</td>\n",
       "      <td>100</td>\n",
       "      <td>1020</td>\n",
       "      <td>46</td>\n",
       "      <td>60</td>\n",
       "      <td>Beginner Level</td>\n",
       "      <td>6.0</td>\n",
       "      <td>2015-07-01 21:46:36+00:00</td>\n",
       "      <td>Web Development</td>\n",
       "    </tr>\n",
       "    <tr>\n",
       "      <th>3392</th>\n",
       "      <td>70640</td>\n",
       "      <td>Python Programming: Create an Digital Marketpl...</td>\n",
       "      <td>https://www.udemy.com/coding-for-entrepreneurs...</td>\n",
       "      <td>True</td>\n",
       "      <td>195</td>\n",
       "      <td>4198</td>\n",
       "      <td>145</td>\n",
       "      <td>161</td>\n",
       "      <td>All Levels</td>\n",
       "      <td>26.0</td>\n",
       "      <td>2013-10-20 19:53:28+00:00</td>\n",
       "      <td>Web Development</td>\n",
       "    </tr>\n",
       "    <tr>\n",
       "      <th>3507</th>\n",
       "      <td>394832</td>\n",
       "      <td>Fun and creative web engineering with Python a...</td>\n",
       "      <td>https://www.udemy.com/web-engineering-with-pyt...</td>\n",
       "      <td>False</td>\n",
       "      <td>0</td>\n",
       "      <td>10917</td>\n",
       "      <td>319</td>\n",
       "      <td>25</td>\n",
       "      <td>All Levels</td>\n",
       "      <td>2.0</td>\n",
       "      <td>2015-06-09 19:51:50+00:00</td>\n",
       "      <td>Web Development</td>\n",
       "    </tr>\n",
       "  </tbody>\n",
       "</table>\n",
       "</div>"
      ],
      "text/plain": [
       "      course_id                                       course_title  \\\n",
       "14      1196544   Python Algo Trading: Sentiment Trading with News   \n",
       "30      1170894  Python Algo Stock Trading: Automate Your Trading!   \n",
       "41      1035472  Python for Finance: Investment Fundamentals & ...   \n",
       "147     1070886         Python Algo Trading: FX Trading with Oanda   \n",
       "334      815482               Stock Technical Analysis with Python   \n",
       "536      529828                     Python for Trading & Investing   \n",
       "762     1088656          Quantitative Trading Analysis with Python   \n",
       "863      902888          Investment Portfolio Analysis with Python   \n",
       "1682     546848  Learn to code in Python and learn Adobe Photos...   \n",
       "2497      16646                        Web Programming with Python   \n",
       "2528     391546        Learn Python and Django: Payment Processing   \n",
       "2553     938560  The Complete Ethical Hacking Course 2.0: Pytho...   \n",
       "2570      47963  Coding for Entrepreneurs: Learn Python, Django...   \n",
       "2681     477702  Python for Beginners: Python Programming Langu...   \n",
       "2960     270808                      Projects in Django and Python   \n",
       "3133     574082        Web Scraping with Python, Ruby & import. io   \n",
       "3138     631128  Complete Python Web Course: Build 8 Python Web...   \n",
       "3160     368340    Professional Python Web Development Using Flask   \n",
       "3192    1035940  Professional RESTful API Design using Python F...   \n",
       "3194    1063722            Learn Python Django - A Hands-On Course   \n",
       "3197      76052  Try Django 1.9 | Build a Blog and Learn Python...   \n",
       "3200     822444  Python and Django Full Stack Web Developer Boo...   \n",
       "3203     970600                    REST APIs with Flask and Python   \n",
       "3284     599504  Advanced Scalable Python Web Development Using...   \n",
       "3326     186096  Core: A Web App Reference Guide for Django, Py...   \n",
       "3333    1038538            Introduction to QGIS Python Programming   \n",
       "3343     523312                             Python Web Programming   \n",
       "3392      70640  Python Programming: Create an Digital Marketpl...   \n",
       "3507     394832  Fun and creative web engineering with Python a...   \n",
       "\n",
       "                                                    url  is_paid  price  \\\n",
       "14    https://www.udemy.com/hedge-fund-strategy-trad...     True    200   \n",
       "30    https://www.udemy.com/algorithmic-stock-tradin...     True     95   \n",
       "41    https://www.udemy.com/python-for-finance-inves...     True    195   \n",
       "147   https://www.udemy.com/python-algo-trading-fx-t...     True    200   \n",
       "334   https://www.udemy.com/stock-technical-analysis...     True     50   \n",
       "536   https://www.udemy.com/python-for-trading-inves...     True     95   \n",
       "762   https://www.udemy.com/quantitative-trading-ana...     True     50   \n",
       "863   https://www.udemy.com/investment-portfolio-ana...     True     50   \n",
       "1682  https://www.udemy.com/learn-to-code-in-python-...     True     50   \n",
       "2497  https://www.udemy.com/web-programming-with-pyt...     True     50   \n",
       "2528  https://www.udemy.com/learn-django-code-accept...     True     70   \n",
       "2553  https://www.udemy.com/penetration-testing-ethi...     True    195   \n",
       "2570    https://www.udemy.com/coding-for-entrepreneurs/     True    195   \n",
       "2681               https://www.udemy.com/python-course/     True    150   \n",
       "2960  https://www.udemy.com/projects-in-django-and-p...     True     60   \n",
       "3133  https://www.udemy.com/web-scraping-with-python...     True     75   \n",
       "3138  https://www.udemy.com/the-complete-python-web-...     True    110   \n",
       "3160         https://www.udemy.com/python-flask-course/     True    120   \n",
       "3192    https://www.udemy.com/restful-api-flask-course/     True    120   \n",
       "3194  https://www.udemy.com/learn-python-django-a-ha...     True     50   \n",
       "3197                  https://www.udemy.com/try-django/     True     50   \n",
       "3200  https://www.udemy.com/python-and-django-full-s...     True    200   \n",
       "3203   https://www.udemy.com/rest-api-flask-and-python/     True    110   \n",
       "3284       https://www.udemy.com/advanced-python-flask/     True    120   \n",
       "3326  https://www.udemy.com/coding-for-entrepreneurs...     True    195   \n",
       "3333  https://www.udemy.com/introduction-to-qgis-pyt...     True     85   \n",
       "3343      https://www.udemy.com/python-web-programming/     True    100   \n",
       "3392  https://www.udemy.com/coding-for-entrepreneurs...     True    195   \n",
       "3507  https://www.udemy.com/web-engineering-with-pyt...    False      0   \n",
       "\n",
       "      num_subscribers  num_reviews  num_lectures               level  \\\n",
       "14                294           19            42          All Levels   \n",
       "30               1165           21            41      Beginner Level   \n",
       "41               3811          278           103          All Levels   \n",
       "147               453           42            33  Intermediate Level   \n",
       "334               409           35            46          All Levels   \n",
       "536               638           25            36          All Levels   \n",
       "762               256           17            49          All Levels   \n",
       "863               209           13            37          All Levels   \n",
       "1682             1132            1            29          All Levels   \n",
       "2497            35267          217            53          All Levels   \n",
       "2528            17714          198            23          All Levels   \n",
       "2553             7827          268            66          All Levels   \n",
       "2570            23412          799           251          All Levels   \n",
       "2681             6153          125            84      Beginner Level   \n",
       "2960             1764           53            28          All Levels   \n",
       "3133              973           50            46          All Levels   \n",
       "3138             7489          941           173          All Levels   \n",
       "3160             3420          489           102      Beginner Level   \n",
       "3192              578           25            36  Intermediate Level   \n",
       "3194             1339           21            18      Beginner Level   \n",
       "3197             7407          172           147          All Levels   \n",
       "3200            11832         1883           191          All Levels   \n",
       "3203             5151          737           115  Intermediate Level   \n",
       "3284             1299           56            71  Intermediate Level   \n",
       "3326             2497           98           154          All Levels   \n",
       "3333              197           26            28      Beginner Level   \n",
       "3343             1020           46            60      Beginner Level   \n",
       "3392             4198          145           161          All Levels   \n",
       "3507            10917          319            25          All Levels   \n",
       "\n",
       "      content_duration       published_timestamp           subject  \n",
       "14                 7.0 2017-04-28 16:41:44+00:00  Business Finance  \n",
       "30                 2.5 2017-05-28 23:41:03+00:00  Business Finance  \n",
       "41                 6.5 2017-03-30 22:17:09+00:00  Business Finance  \n",
       "147                3.0 2017-03-14 00:39:45+00:00  Business Finance  \n",
       "334                8.0 2016-04-12 00:40:03+00:00  Business Finance  \n",
       "536                5.0 2015-06-17 22:23:31+00:00  Business Finance  \n",
       "762                5.5 2017-01-27 17:11:28+00:00  Business Finance  \n",
       "863                7.0 2016-07-13 21:40:32+00:00  Business Finance  \n",
       "1682               2.0 2015-07-08 00:15:12+00:00    Graphic Design  \n",
       "2497               4.0 2012-04-25 00:01:43+00:00   Web Development  \n",
       "2528               3.5 2015-02-09 15:37:56+00:00   Web Development  \n",
       "2553              11.0 2016-09-26 15:08:29+00:00   Web Development  \n",
       "2570              45.0 2013-04-08 00:46:14+00:00   Web Development  \n",
       "2681               5.0 2015-06-14 18:18:57+00:00   Web Development  \n",
       "2960               6.5 2014-10-21 07:58:07+00:00   Web Development  \n",
       "3133               4.5 2015-08-09 22:16:41+00:00   Web Development  \n",
       "3138              16.0 2015-11-08 20:57:35+00:00   Web Development  \n",
       "3160              14.5 2015-03-04 00:10:36+00:00   Web Development  \n",
       "3192               4.5 2017-01-11 21:15:25+00:00   Web Development  \n",
       "3194               2.0 2017-01-18 21:53:34+00:00   Web Development  \n",
       "3197              20.0 2014-03-04 07:12:21+00:00   Web Development  \n",
       "3200              31.5 2017-02-24 18:40:55+00:00   Web Development  \n",
       "3203              12.5 2016-11-06 19:00:38+00:00   Web Development  \n",
       "3284              14.0 2016-08-11 22:09:24+00:00   Web Development  \n",
       "3326              26.0 2014-05-29 00:58:43+00:00   Web Development  \n",
       "3333               3.5 2016-12-22 00:11:22+00:00   Web Development  \n",
       "3343               6.0 2015-07-01 21:46:36+00:00   Web Development  \n",
       "3392              26.0 2013-10-20 19:53:28+00:00   Web Development  \n",
       "3507               2.0 2015-06-09 19:51:50+00:00   Web Development  "
      ]
     },
     "execution_count": 97,
     "metadata": {},
     "output_type": "execute_result"
    }
   ],
   "source": [
    "df[df['course_title'].str.contains('python', case= False)]"
   ]
  },
  {
   "cell_type": "code",
   "execution_count": 98,
   "id": "2f478964",
   "metadata": {},
   "outputs": [
    {
     "data": {
      "text/plain": [
       "29"
      ]
     },
     "execution_count": 98,
     "metadata": {},
     "output_type": "execute_result"
    }
   ],
   "source": [
    "len(df[df['course_title'].str.contains('python', case= False)])"
   ]
  },
  {
   "cell_type": "markdown",
   "id": "ddb85e17",
   "metadata": {},
   "source": [
    "### Display 10 most popular python courses as per no. of subscribers"
   ]
  },
  {
   "cell_type": "code",
   "execution_count": 102,
   "id": "6991b423",
   "metadata": {},
   "outputs": [
    {
     "data": {
      "text/html": [
       "<div>\n",
       "<style scoped>\n",
       "    .dataframe tbody tr th:only-of-type {\n",
       "        vertical-align: middle;\n",
       "    }\n",
       "\n",
       "    .dataframe tbody tr th {\n",
       "        vertical-align: top;\n",
       "    }\n",
       "\n",
       "    .dataframe thead th {\n",
       "        text-align: right;\n",
       "    }\n",
       "</style>\n",
       "<table border=\"1\" class=\"dataframe\">\n",
       "  <thead>\n",
       "    <tr style=\"text-align: right;\">\n",
       "      <th></th>\n",
       "      <th>course_id</th>\n",
       "      <th>course_title</th>\n",
       "      <th>url</th>\n",
       "      <th>is_paid</th>\n",
       "      <th>price</th>\n",
       "      <th>num_subscribers</th>\n",
       "      <th>num_reviews</th>\n",
       "      <th>num_lectures</th>\n",
       "      <th>level</th>\n",
       "      <th>content_duration</th>\n",
       "      <th>published_timestamp</th>\n",
       "      <th>subject</th>\n",
       "    </tr>\n",
       "  </thead>\n",
       "  <tbody>\n",
       "    <tr>\n",
       "      <th>2497</th>\n",
       "      <td>16646</td>\n",
       "      <td>Web Programming with Python</td>\n",
       "      <td>https://www.udemy.com/web-programming-with-pyt...</td>\n",
       "      <td>True</td>\n",
       "      <td>50</td>\n",
       "      <td>35267</td>\n",
       "      <td>217</td>\n",
       "      <td>53</td>\n",
       "      <td>All Levels</td>\n",
       "      <td>4.0</td>\n",
       "      <td>2012-04-25 00:01:43+00:00</td>\n",
       "      <td>Web Development</td>\n",
       "    </tr>\n",
       "    <tr>\n",
       "      <th>2570</th>\n",
       "      <td>47963</td>\n",
       "      <td>Coding for Entrepreneurs: Learn Python, Django...</td>\n",
       "      <td>https://www.udemy.com/coding-for-entrepreneurs/</td>\n",
       "      <td>True</td>\n",
       "      <td>195</td>\n",
       "      <td>23412</td>\n",
       "      <td>799</td>\n",
       "      <td>251</td>\n",
       "      <td>All Levels</td>\n",
       "      <td>45.0</td>\n",
       "      <td>2013-04-08 00:46:14+00:00</td>\n",
       "      <td>Web Development</td>\n",
       "    </tr>\n",
       "    <tr>\n",
       "      <th>2528</th>\n",
       "      <td>391546</td>\n",
       "      <td>Learn Python and Django: Payment Processing</td>\n",
       "      <td>https://www.udemy.com/learn-django-code-accept...</td>\n",
       "      <td>True</td>\n",
       "      <td>70</td>\n",
       "      <td>17714</td>\n",
       "      <td>198</td>\n",
       "      <td>23</td>\n",
       "      <td>All Levels</td>\n",
       "      <td>3.5</td>\n",
       "      <td>2015-02-09 15:37:56+00:00</td>\n",
       "      <td>Web Development</td>\n",
       "    </tr>\n",
       "    <tr>\n",
       "      <th>3200</th>\n",
       "      <td>822444</td>\n",
       "      <td>Python and Django Full Stack Web Developer Boo...</td>\n",
       "      <td>https://www.udemy.com/python-and-django-full-s...</td>\n",
       "      <td>True</td>\n",
       "      <td>200</td>\n",
       "      <td>11832</td>\n",
       "      <td>1883</td>\n",
       "      <td>191</td>\n",
       "      <td>All Levels</td>\n",
       "      <td>31.5</td>\n",
       "      <td>2017-02-24 18:40:55+00:00</td>\n",
       "      <td>Web Development</td>\n",
       "    </tr>\n",
       "    <tr>\n",
       "      <th>3507</th>\n",
       "      <td>394832</td>\n",
       "      <td>Fun and creative web engineering with Python a...</td>\n",
       "      <td>https://www.udemy.com/web-engineering-with-pyt...</td>\n",
       "      <td>False</td>\n",
       "      <td>0</td>\n",
       "      <td>10917</td>\n",
       "      <td>319</td>\n",
       "      <td>25</td>\n",
       "      <td>All Levels</td>\n",
       "      <td>2.0</td>\n",
       "      <td>2015-06-09 19:51:50+00:00</td>\n",
       "      <td>Web Development</td>\n",
       "    </tr>\n",
       "    <tr>\n",
       "      <th>2553</th>\n",
       "      <td>938560</td>\n",
       "      <td>The Complete Ethical Hacking Course 2.0: Pytho...</td>\n",
       "      <td>https://www.udemy.com/penetration-testing-ethi...</td>\n",
       "      <td>True</td>\n",
       "      <td>195</td>\n",
       "      <td>7827</td>\n",
       "      <td>268</td>\n",
       "      <td>66</td>\n",
       "      <td>All Levels</td>\n",
       "      <td>11.0</td>\n",
       "      <td>2016-09-26 15:08:29+00:00</td>\n",
       "      <td>Web Development</td>\n",
       "    </tr>\n",
       "    <tr>\n",
       "      <th>3138</th>\n",
       "      <td>631128</td>\n",
       "      <td>Complete Python Web Course: Build 8 Python Web...</td>\n",
       "      <td>https://www.udemy.com/the-complete-python-web-...</td>\n",
       "      <td>True</td>\n",
       "      <td>110</td>\n",
       "      <td>7489</td>\n",
       "      <td>941</td>\n",
       "      <td>173</td>\n",
       "      <td>All Levels</td>\n",
       "      <td>16.0</td>\n",
       "      <td>2015-11-08 20:57:35+00:00</td>\n",
       "      <td>Web Development</td>\n",
       "    </tr>\n",
       "    <tr>\n",
       "      <th>3197</th>\n",
       "      <td>76052</td>\n",
       "      <td>Try Django 1.9 | Build a Blog and Learn Python...</td>\n",
       "      <td>https://www.udemy.com/try-django/</td>\n",
       "      <td>True</td>\n",
       "      <td>50</td>\n",
       "      <td>7407</td>\n",
       "      <td>172</td>\n",
       "      <td>147</td>\n",
       "      <td>All Levels</td>\n",
       "      <td>20.0</td>\n",
       "      <td>2014-03-04 07:12:21+00:00</td>\n",
       "      <td>Web Development</td>\n",
       "    </tr>\n",
       "    <tr>\n",
       "      <th>2681</th>\n",
       "      <td>477702</td>\n",
       "      <td>Python for Beginners: Python Programming Langu...</td>\n",
       "      <td>https://www.udemy.com/python-course/</td>\n",
       "      <td>True</td>\n",
       "      <td>150</td>\n",
       "      <td>6153</td>\n",
       "      <td>125</td>\n",
       "      <td>84</td>\n",
       "      <td>Beginner Level</td>\n",
       "      <td>5.0</td>\n",
       "      <td>2015-06-14 18:18:57+00:00</td>\n",
       "      <td>Web Development</td>\n",
       "    </tr>\n",
       "    <tr>\n",
       "      <th>3203</th>\n",
       "      <td>970600</td>\n",
       "      <td>REST APIs with Flask and Python</td>\n",
       "      <td>https://www.udemy.com/rest-api-flask-and-python/</td>\n",
       "      <td>True</td>\n",
       "      <td>110</td>\n",
       "      <td>5151</td>\n",
       "      <td>737</td>\n",
       "      <td>115</td>\n",
       "      <td>Intermediate Level</td>\n",
       "      <td>12.5</td>\n",
       "      <td>2016-11-06 19:00:38+00:00</td>\n",
       "      <td>Web Development</td>\n",
       "    </tr>\n",
       "  </tbody>\n",
       "</table>\n",
       "</div>"
      ],
      "text/plain": [
       "      course_id                                       course_title  \\\n",
       "2497      16646                        Web Programming with Python   \n",
       "2570      47963  Coding for Entrepreneurs: Learn Python, Django...   \n",
       "2528     391546        Learn Python and Django: Payment Processing   \n",
       "3200     822444  Python and Django Full Stack Web Developer Boo...   \n",
       "3507     394832  Fun and creative web engineering with Python a...   \n",
       "2553     938560  The Complete Ethical Hacking Course 2.0: Pytho...   \n",
       "3138     631128  Complete Python Web Course: Build 8 Python Web...   \n",
       "3197      76052  Try Django 1.9 | Build a Blog and Learn Python...   \n",
       "2681     477702  Python for Beginners: Python Programming Langu...   \n",
       "3203     970600                    REST APIs with Flask and Python   \n",
       "\n",
       "                                                    url  is_paid  price  \\\n",
       "2497  https://www.udemy.com/web-programming-with-pyt...     True     50   \n",
       "2570    https://www.udemy.com/coding-for-entrepreneurs/     True    195   \n",
       "2528  https://www.udemy.com/learn-django-code-accept...     True     70   \n",
       "3200  https://www.udemy.com/python-and-django-full-s...     True    200   \n",
       "3507  https://www.udemy.com/web-engineering-with-pyt...    False      0   \n",
       "2553  https://www.udemy.com/penetration-testing-ethi...     True    195   \n",
       "3138  https://www.udemy.com/the-complete-python-web-...     True    110   \n",
       "3197                  https://www.udemy.com/try-django/     True     50   \n",
       "2681               https://www.udemy.com/python-course/     True    150   \n",
       "3203   https://www.udemy.com/rest-api-flask-and-python/     True    110   \n",
       "\n",
       "      num_subscribers  num_reviews  num_lectures               level  \\\n",
       "2497            35267          217            53          All Levels   \n",
       "2570            23412          799           251          All Levels   \n",
       "2528            17714          198            23          All Levels   \n",
       "3200            11832         1883           191          All Levels   \n",
       "3507            10917          319            25          All Levels   \n",
       "2553             7827          268            66          All Levels   \n",
       "3138             7489          941           173          All Levels   \n",
       "3197             7407          172           147          All Levels   \n",
       "2681             6153          125            84      Beginner Level   \n",
       "3203             5151          737           115  Intermediate Level   \n",
       "\n",
       "      content_duration       published_timestamp          subject  \n",
       "2497               4.0 2012-04-25 00:01:43+00:00  Web Development  \n",
       "2570              45.0 2013-04-08 00:46:14+00:00  Web Development  \n",
       "2528               3.5 2015-02-09 15:37:56+00:00  Web Development  \n",
       "3200              31.5 2017-02-24 18:40:55+00:00  Web Development  \n",
       "3507               2.0 2015-06-09 19:51:50+00:00  Web Development  \n",
       "2553              11.0 2016-09-26 15:08:29+00:00  Web Development  \n",
       "3138              16.0 2015-11-08 20:57:35+00:00  Web Development  \n",
       "3197              20.0 2014-03-04 07:12:21+00:00  Web Development  \n",
       "2681               5.0 2015-06-14 18:18:57+00:00  Web Development  \n",
       "3203              12.5 2016-11-06 19:00:38+00:00  Web Development  "
      ]
     },
     "execution_count": 102,
     "metadata": {},
     "output_type": "execute_result"
    }
   ],
   "source": [
    "df[df['course_title'].str.contains('python', case= False)].sort_values(by= 'num_subscribers', ascending=False).head(10)"
   ]
  },
  {
   "cell_type": "code",
   "execution_count": 103,
   "id": "3eae9c11",
   "metadata": {},
   "outputs": [],
   "source": [
    "# visualizing it\n",
    "python= df[df['course_title'].str.contains('python', case= False)]. \\\n",
    "sort_values(by= 'num_subscribers', ascending=False).head(10)"
   ]
  },
  {
   "cell_type": "code",
   "execution_count": 104,
   "id": "a717b598",
   "metadata": {},
   "outputs": [
    {
     "data": {
      "text/plain": [
       "<AxesSubplot:xlabel='num_subscribers', ylabel='course_title'>"
      ]
     },
     "execution_count": 104,
     "metadata": {},
     "output_type": "execute_result"
    },
    {
     "data": {
      "image/png": "[encoded data removed]",
      "text/plain": [
       "<Figure size 432x288 with 1 Axes>"
      ]
     },
     "metadata": {
      "needs_background": "light"
     },
     "output_type": "display_data"
    }
   ],
   "source": [
    "sns.barplot(x='num_subscribers', y= 'course_title', data= python)"
   ]
  },
  {
   "cell_type": "markdown",
   "id": "196ea41d",
   "metadata": {},
   "source": [
    "### In which year the highest no. of courses were posted?"
   ]
  },
  {
   "cell_type": "code",
   "execution_count": 106,
   "id": "7e353513",
   "metadata": {},
   "outputs": [
    {
     "data": {
      "text/plain": [
       "Index(['course_id', 'course_title', 'url', 'is_paid', 'price',\n",
       "       'num_subscribers', 'num_reviews', 'num_lectures', 'level',\n",
       "       'content_duration', 'published_timestamp', 'subject'],\n",
       "      dtype='object')"
      ]
     },
     "execution_count": 106,
     "metadata": {},
     "output_type": "execute_result"
    }
   ],
   "source": [
    "df.columns"
   ]
  },
  {
   "cell_type": "code",
   "execution_count": 108,
   "id": "600634e9",
   "metadata": {},
   "outputs": [],
   "source": [
    "df['year']=df['published_timestamp'].dt.year"
   ]
  },
  {
   "cell_type": "code",
   "execution_count": 109,
   "id": "2ac4e8da",
   "metadata": {},
   "outputs": [
    {
     "data": {
      "text/html": [
       "<div>\n",
       "<style scoped>\n",
       "    .dataframe tbody tr th:only-of-type {\n",
       "        vertical-align: middle;\n",
       "    }\n",
       "\n",
       "    .dataframe tbody tr th {\n",
       "        vertical-align: top;\n",
       "    }\n",
       "\n",
       "    .dataframe thead th {\n",
       "        text-align: right;\n",
       "    }\n",
       "</style>\n",
       "<table border=\"1\" class=\"dataframe\">\n",
       "  <thead>\n",
       "    <tr style=\"text-align: right;\">\n",
       "      <th></th>\n",
       "      <th>course_id</th>\n",
       "      <th>course_title</th>\n",
       "      <th>url</th>\n",
       "      <th>is_paid</th>\n",
       "      <th>price</th>\n",
       "      <th>num_subscribers</th>\n",
       "      <th>num_reviews</th>\n",
       "      <th>num_lectures</th>\n",
       "      <th>level</th>\n",
       "      <th>content_duration</th>\n",
       "      <th>published_timestamp</th>\n",
       "      <th>subject</th>\n",
       "      <th>year</th>\n",
       "    </tr>\n",
       "  </thead>\n",
       "  <tbody>\n",
       "    <tr>\n",
       "      <th>0</th>\n",
       "      <td>1070968</td>\n",
       "      <td>Ultimate Investment Banking Course</td>\n",
       "      <td>https://www.udemy.com/ultimate-investment-bank...</td>\n",
       "      <td>True</td>\n",
       "      <td>200</td>\n",
       "      <td>2147</td>\n",
       "      <td>23</td>\n",
       "      <td>51</td>\n",
       "      <td>All Levels</td>\n",
       "      <td>1.5</td>\n",
       "      <td>2017-01-18 20:58:58+00:00</td>\n",
       "      <td>Business Finance</td>\n",
       "      <td>2017</td>\n",
       "    </tr>\n",
       "  </tbody>\n",
       "</table>\n",
       "</div>"
      ],
      "text/plain": [
       "   course_id                        course_title  \\\n",
       "0    1070968  Ultimate Investment Banking Course   \n",
       "\n",
       "                                                 url  is_paid  price  \\\n",
       "0  https://www.udemy.com/ultimate-investment-bank...     True    200   \n",
       "\n",
       "   num_subscribers  num_reviews  num_lectures       level  content_duration  \\\n",
       "0             2147           23            51  All Levels               1.5   \n",
       "\n",
       "        published_timestamp           subject  year  \n",
       "0 2017-01-18 20:58:58+00:00  Business Finance  2017  "
      ]
     },
     "execution_count": 109,
     "metadata": {},
     "output_type": "execute_result"
    }
   ],
   "source": [
    "df.head(1)"
   ]
  },
  {
   "cell_type": "code",
   "execution_count": 110,
   "id": "e7626328",
   "metadata": {},
   "outputs": [
    {
     "name": "stderr",
     "output_type": "stream",
     "text": [
      "D:\\Python3\\lib\\site-packages\\seaborn\\_decorators.py:36: FutureWarning: Pass the following variable as a keyword arg: x. From version 0.12, the only valid positional argument will be `data`, and passing other arguments without an explicit keyword will result in an error or misinterpretation.\n",
      "  warnings.warn(\n"
     ]
    },
    {
     "data": {
      "text/plain": [
       "<AxesSubplot:xlabel='year', ylabel='count'>"
      ]
     },
     "execution_count": 110,
     "metadata": {},
     "output_type": "execute_result"
    },
    {
     "data": {
      "image/png": "[encoded data removed]",
      "text/plain": [
       "<Figure size 432x288 with 1 Axes>"
      ]
     },
     "metadata": {
      "needs_background": "light"
     },
     "output_type": "display_data"
    }
   ],
   "source": [
    "sns.countplot('year', data= df)"
   ]
  },
  {
   "cell_type": "markdown",
   "id": "28ed2495",
   "metadata": {},
   "source": [
    "### Display category wise count of posted subjects (Year Wise)"
   ]
  },
  {
   "cell_type": "code",
   "execution_count": 111,
   "id": "df69d8de",
   "metadata": {},
   "outputs": [
    {
     "data": {
      "text/plain": [
       "year  subject            \n",
       "2011  Web Development          5\n",
       "2012  Web Development         19\n",
       "      Graphic Design          10\n",
       "      Musical Instruments     10\n",
       "      Business Finance         6\n",
       "2013  Business Finance        84\n",
       "      Web Development         55\n",
       "      Musical Instruments     39\n",
       "      Graphic Design          23\n",
       "2014  Business Finance       192\n",
       "      Musical Instruments    120\n",
       "      Web Development        113\n",
       "      Graphic Design          65\n",
       "2015  Business Finance       339\n",
       "      Web Development        336\n",
       "      Musical Instruments    171\n",
       "      Graphic Design         168\n",
       "2016  Web Development        448\n",
       "      Business Finance       347\n",
       "      Musical Instruments    228\n",
       "      Graphic Design         181\n",
       "2017  Business Finance       223\n",
       "      Web Development        223\n",
       "      Graphic Design         155\n",
       "      Musical Instruments    112\n",
       "Name: subject, dtype: int64"
      ]
     },
     "execution_count": 111,
     "metadata": {},
     "output_type": "execute_result"
    }
   ],
   "source": [
    "df.groupby('year')['subject'].value_counts()"
   ]
  },
  {
   "cell_type": "code",
   "execution_count": null,
   "id": "585a3fa4",
   "metadata": {},
   "outputs": [],
   "source": []
  }
 ],
 "metadata": {
  "kernelspec": {
   "display_name": "Python 3 (ipykernel)",
   "language": "python",
   "name": "python3"
  },
  "language_info": {
   "codemirror_mode": {
    "name": "ipython",
    "version": 3
   },
   "file_extension": ".py",
   "mimetype": "text/x-python",
   "name": "python",
   "nbconvert_exporter": "python",
   "pygments_lexer": "ipython3",
   "version": "3.9.12"
  }
 },
 "nbformat": 4,
 "nbformat_minor": 5
}
